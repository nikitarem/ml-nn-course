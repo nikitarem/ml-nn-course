{
 "cells": [
  {
   "cell_type": "code",
   "execution_count": 1,
   "id": "09586974",
   "metadata": {},
   "outputs": [],
   "source": [
    "import pandas as pd\n",
    "import numpy as np"
   ]
  },
  {
   "cell_type": "code",
   "execution_count": 2,
   "id": "0d23caf6",
   "metadata": {},
   "outputs": [
    {
     "data": {
      "text/html": [
       "<div>\n",
       "<style scoped>\n",
       "    .dataframe tbody tr th:only-of-type {\n",
       "        vertical-align: middle;\n",
       "    }\n",
       "\n",
       "    .dataframe tbody tr th {\n",
       "        vertical-align: top;\n",
       "    }\n",
       "\n",
       "    .dataframe thead th {\n",
       "        text-align: right;\n",
       "    }\n",
       "</style>\n",
       "<table border=\"1\" class=\"dataframe\">\n",
       "  <thead>\n",
       "    <tr style=\"text-align: right;\">\n",
       "      <th></th>\n",
       "      <th>Day</th>\n",
       "      <th>Outlook</th>\n",
       "      <th>Temperature</th>\n",
       "      <th>Humidity</th>\n",
       "      <th>Wind</th>\n",
       "      <th>PlayTennis</th>\n",
       "    </tr>\n",
       "  </thead>\n",
       "  <tbody>\n",
       "    <tr>\n",
       "      <th>0</th>\n",
       "      <td>D1</td>\n",
       "      <td>Sunny</td>\n",
       "      <td>Hot</td>\n",
       "      <td>High</td>\n",
       "      <td>Weak</td>\n",
       "      <td>No</td>\n",
       "    </tr>\n",
       "    <tr>\n",
       "      <th>1</th>\n",
       "      <td>D2</td>\n",
       "      <td>Sunny</td>\n",
       "      <td>Hot</td>\n",
       "      <td>High</td>\n",
       "      <td>Strong</td>\n",
       "      <td>No</td>\n",
       "    </tr>\n",
       "    <tr>\n",
       "      <th>2</th>\n",
       "      <td>D3</td>\n",
       "      <td>Overcast</td>\n",
       "      <td>Hot</td>\n",
       "      <td>High</td>\n",
       "      <td>Weak</td>\n",
       "      <td>Yes</td>\n",
       "    </tr>\n",
       "    <tr>\n",
       "      <th>3</th>\n",
       "      <td>D4</td>\n",
       "      <td>Rain</td>\n",
       "      <td>Mild</td>\n",
       "      <td>High</td>\n",
       "      <td>Weak</td>\n",
       "      <td>Yes</td>\n",
       "    </tr>\n",
       "    <tr>\n",
       "      <th>4</th>\n",
       "      <td>D5</td>\n",
       "      <td>Rain</td>\n",
       "      <td>Cool</td>\n",
       "      <td>Normal</td>\n",
       "      <td>Weak</td>\n",
       "      <td>Yes</td>\n",
       "    </tr>\n",
       "    <tr>\n",
       "      <th>5</th>\n",
       "      <td>D6</td>\n",
       "      <td>Rain</td>\n",
       "      <td>Cool</td>\n",
       "      <td>Normal</td>\n",
       "      <td>Strong</td>\n",
       "      <td>No</td>\n",
       "    </tr>\n",
       "    <tr>\n",
       "      <th>6</th>\n",
       "      <td>D7</td>\n",
       "      <td>Overcast</td>\n",
       "      <td>Cool</td>\n",
       "      <td>Normal</td>\n",
       "      <td>Strong</td>\n",
       "      <td>Yes</td>\n",
       "    </tr>\n",
       "    <tr>\n",
       "      <th>7</th>\n",
       "      <td>D8</td>\n",
       "      <td>Sunny</td>\n",
       "      <td>Mild</td>\n",
       "      <td>High</td>\n",
       "      <td>Weak</td>\n",
       "      <td>No</td>\n",
       "    </tr>\n",
       "    <tr>\n",
       "      <th>8</th>\n",
       "      <td>D9</td>\n",
       "      <td>Sunny</td>\n",
       "      <td>Cool</td>\n",
       "      <td>Normal</td>\n",
       "      <td>Weak</td>\n",
       "      <td>Yes</td>\n",
       "    </tr>\n",
       "    <tr>\n",
       "      <th>9</th>\n",
       "      <td>D10</td>\n",
       "      <td>Rain</td>\n",
       "      <td>Mild</td>\n",
       "      <td>Normal</td>\n",
       "      <td>Weak</td>\n",
       "      <td>Yes</td>\n",
       "    </tr>\n",
       "    <tr>\n",
       "      <th>10</th>\n",
       "      <td>D11</td>\n",
       "      <td>Sunny</td>\n",
       "      <td>Mild</td>\n",
       "      <td>Normal</td>\n",
       "      <td>Strong</td>\n",
       "      <td>Yes</td>\n",
       "    </tr>\n",
       "    <tr>\n",
       "      <th>11</th>\n",
       "      <td>D12</td>\n",
       "      <td>Overcast</td>\n",
       "      <td>Mild</td>\n",
       "      <td>High</td>\n",
       "      <td>Strong</td>\n",
       "      <td>Yes</td>\n",
       "    </tr>\n",
       "    <tr>\n",
       "      <th>12</th>\n",
       "      <td>D13</td>\n",
       "      <td>Overcast</td>\n",
       "      <td>Hot</td>\n",
       "      <td>Normal</td>\n",
       "      <td>Weak</td>\n",
       "      <td>Yes</td>\n",
       "    </tr>\n",
       "    <tr>\n",
       "      <th>13</th>\n",
       "      <td>D14</td>\n",
       "      <td>Rain</td>\n",
       "      <td>Mild</td>\n",
       "      <td>High</td>\n",
       "      <td>Strong</td>\n",
       "      <td>No</td>\n",
       "    </tr>\n",
       "  </tbody>\n",
       "</table>\n",
       "</div>"
      ],
      "text/plain": [
       "    Day   Outlook Temperature Humidity    Wind PlayTennis\n",
       "0    D1     Sunny         Hot     High    Weak         No\n",
       "1    D2     Sunny         Hot     High  Strong         No\n",
       "2    D3  Overcast         Hot     High    Weak        Yes\n",
       "3    D4      Rain        Mild     High    Weak        Yes\n",
       "4    D5      Rain        Cool   Normal    Weak        Yes\n",
       "5    D6      Rain        Cool   Normal  Strong         No\n",
       "6    D7  Overcast        Cool   Normal  Strong        Yes\n",
       "7    D8     Sunny        Mild     High    Weak         No\n",
       "8    D9     Sunny        Cool   Normal    Weak        Yes\n",
       "9   D10      Rain        Mild   Normal    Weak        Yes\n",
       "10  D11     Sunny        Mild   Normal  Strong        Yes\n",
       "11  D12  Overcast        Mild     High  Strong        Yes\n",
       "12  D13  Overcast         Hot   Normal    Weak        Yes\n",
       "13  D14      Rain        Mild     High  Strong         No"
      ]
     },
     "execution_count": 2,
     "metadata": {},
     "output_type": "execute_result"
    }
   ],
   "source": [
    "train_df = pd.read_excel(\"tennis_set.xlsx\")\n",
    "train_df"
   ]
  },
  {
   "cell_type": "code",
   "execution_count": 3,
   "id": "9b7e6b78",
   "metadata": {},
   "outputs": [],
   "source": [
    "def prior(data_a, column_a, value_a):\n",
    "    res = len(data_a[data_a[column_a] == value_a]) / (len(data_a)+0.0001)\n",
    "    #print (\"prior \",  column_a, value_a, res)\n",
    "    return res"
   ]
  },
  {
   "cell_type": "code",
   "execution_count": 4,
   "id": "3a664bcf",
   "metadata": {},
   "outputs": [],
   "source": [
    "def likelyhood(data_only_a, column_b, value_b):\n",
    "    res = len(data_only_a[data_only_a[column_b] == value_b]) / (len(data_only_a)+0.0001)\n",
    "    #print (\"likelyhood \", column_b, value_b, res)\n",
    "    return res"
   ]
  },
  {
   "cell_type": "code",
   "execution_count": 5,
   "id": "3bbf68a9",
   "metadata": {},
   "outputs": [],
   "source": [
    "def evidence(data_a, column_a, column_b, value_b):\n",
    "    P_B = 0\n",
    "    for a_i in data_a[column_a].unique():\n",
    "        P_B += prior(data_a, column_a, a_i) * likelyhood(data_a[data_a[column_a] == a_i], column_b, value_b)\n",
    "    return P_B"
   ]
  },
  {
   "cell_type": "code",
   "execution_count": 6,
   "id": "999b7e60",
   "metadata": {},
   "outputs": [],
   "source": [
    "def probability(data_a, column_a, value, column_b, hypothes):\n",
    "    _prior = prior(data_a, column_a, value)\n",
    "    _likelyhood = likelyhood(data_a[data_a[column_a] == value], column_b, hypothes)\n",
    "    _evidence = evidence(data_a, column_a, column_b, hypothes)\n",
    "    #P(A_value|B_hypothes)\n",
    "    return  (_prior*_likelyhood /_evidence)"
   ]
  },
  {
   "cell_type": "code",
   "execution_count": 7,
   "id": "ee67e4b6",
   "metadata": {},
   "outputs": [
    {
     "data": {
      "text/plain": [
       "['Day', 'Outlook', 'Temperature', 'Humidity', 'Wind', 'PlayTennis']"
      ]
     },
     "execution_count": 7,
     "metadata": {},
     "output_type": "execute_result"
    }
   ],
   "source": [
    "categories = list(train_df)\n",
    "categories"
   ]
  },
  {
   "cell_type": "code",
   "execution_count": 8,
   "id": "163d63b0",
   "metadata": {},
   "outputs": [
    {
     "name": "stdout",
     "output_type": "stream",
     "text": [
      "['D1' 'D2' 'D3' 'D4' 'D5' 'D6' 'D7' 'D8' 'D9' 'D10' 'D11' 'D12' 'D13'\n",
      " 'D14']\n",
      "['Sunny' 'Overcast' 'Rain']\n",
      "['Hot' 'Mild' 'Cool']\n",
      "['High' 'Normal']\n",
      "['Weak' 'Strong']\n",
      "['No' 'Yes']\n"
     ]
    }
   ],
   "source": [
    "for cat in categories:\n",
    "    print(pd.unique(train_df[cat]))"
   ]
  },
  {
   "cell_type": "code",
   "execution_count": 9,
   "id": "40fc1562",
   "metadata": {},
   "outputs": [
    {
     "data": {
      "text/html": [
       "<div>\n",
       "<style scoped>\n",
       "    .dataframe tbody tr th:only-of-type {\n",
       "        vertical-align: middle;\n",
       "    }\n",
       "\n",
       "    .dataframe tbody tr th {\n",
       "        vertical-align: top;\n",
       "    }\n",
       "\n",
       "    .dataframe thead th {\n",
       "        text-align: right;\n",
       "    }\n",
       "</style>\n",
       "<table border=\"1\" class=\"dataframe\">\n",
       "  <thead>\n",
       "    <tr style=\"text-align: right;\">\n",
       "      <th></th>\n",
       "      <th>Day</th>\n",
       "      <th>Outlook</th>\n",
       "      <th>Temperature</th>\n",
       "      <th>Humidity</th>\n",
       "      <th>Wind</th>\n",
       "      <th>PlayTennis</th>\n",
       "    </tr>\n",
       "  </thead>\n",
       "  <tbody>\n",
       "    <tr>\n",
       "      <th>0</th>\n",
       "      <td>D1</td>\n",
       "      <td>Sunny</td>\n",
       "      <td>Hot</td>\n",
       "      <td>High</td>\n",
       "      <td>Weak</td>\n",
       "      <td>No</td>\n",
       "    </tr>\n",
       "    <tr>\n",
       "      <th>1</th>\n",
       "      <td>D2</td>\n",
       "      <td>Sunny</td>\n",
       "      <td>Hot</td>\n",
       "      <td>High</td>\n",
       "      <td>Strong</td>\n",
       "      <td>No</td>\n",
       "    </tr>\n",
       "    <tr>\n",
       "      <th>2</th>\n",
       "      <td>D3</td>\n",
       "      <td>Overcast</td>\n",
       "      <td>Hot</td>\n",
       "      <td>High</td>\n",
       "      <td>Weak</td>\n",
       "      <td>Yes</td>\n",
       "    </tr>\n",
       "    <tr>\n",
       "      <th>3</th>\n",
       "      <td>D4</td>\n",
       "      <td>Rain</td>\n",
       "      <td>Mild</td>\n",
       "      <td>High</td>\n",
       "      <td>Weak</td>\n",
       "      <td>Yes</td>\n",
       "    </tr>\n",
       "    <tr>\n",
       "      <th>4</th>\n",
       "      <td>D5</td>\n",
       "      <td>Rain</td>\n",
       "      <td>Cool</td>\n",
       "      <td>Normal</td>\n",
       "      <td>Weak</td>\n",
       "      <td>Yes</td>\n",
       "    </tr>\n",
       "    <tr>\n",
       "      <th>5</th>\n",
       "      <td>D6</td>\n",
       "      <td>Rain</td>\n",
       "      <td>Cool</td>\n",
       "      <td>Normal</td>\n",
       "      <td>Strong</td>\n",
       "      <td>No</td>\n",
       "    </tr>\n",
       "    <tr>\n",
       "      <th>6</th>\n",
       "      <td>D7</td>\n",
       "      <td>Overcast</td>\n",
       "      <td>Cool</td>\n",
       "      <td>Normal</td>\n",
       "      <td>Strong</td>\n",
       "      <td>Yes</td>\n",
       "    </tr>\n",
       "    <tr>\n",
       "      <th>7</th>\n",
       "      <td>D8</td>\n",
       "      <td>Sunny</td>\n",
       "      <td>Mild</td>\n",
       "      <td>High</td>\n",
       "      <td>Weak</td>\n",
       "      <td>No</td>\n",
       "    </tr>\n",
       "    <tr>\n",
       "      <th>8</th>\n",
       "      <td>D9</td>\n",
       "      <td>Sunny</td>\n",
       "      <td>Cool</td>\n",
       "      <td>Normal</td>\n",
       "      <td>Weak</td>\n",
       "      <td>Yes</td>\n",
       "    </tr>\n",
       "    <tr>\n",
       "      <th>9</th>\n",
       "      <td>D10</td>\n",
       "      <td>Rain</td>\n",
       "      <td>Mild</td>\n",
       "      <td>Normal</td>\n",
       "      <td>Weak</td>\n",
       "      <td>Yes</td>\n",
       "    </tr>\n",
       "    <tr>\n",
       "      <th>10</th>\n",
       "      <td>D11</td>\n",
       "      <td>Sunny</td>\n",
       "      <td>Mild</td>\n",
       "      <td>Normal</td>\n",
       "      <td>Strong</td>\n",
       "      <td>Yes</td>\n",
       "    </tr>\n",
       "    <tr>\n",
       "      <th>11</th>\n",
       "      <td>D12</td>\n",
       "      <td>Overcast</td>\n",
       "      <td>Mild</td>\n",
       "      <td>High</td>\n",
       "      <td>Strong</td>\n",
       "      <td>Yes</td>\n",
       "    </tr>\n",
       "    <tr>\n",
       "      <th>12</th>\n",
       "      <td>D13</td>\n",
       "      <td>Overcast</td>\n",
       "      <td>Hot</td>\n",
       "      <td>Normal</td>\n",
       "      <td>Weak</td>\n",
       "      <td>Yes</td>\n",
       "    </tr>\n",
       "    <tr>\n",
       "      <th>13</th>\n",
       "      <td>D14</td>\n",
       "      <td>Rain</td>\n",
       "      <td>Mild</td>\n",
       "      <td>High</td>\n",
       "      <td>Strong</td>\n",
       "      <td>No</td>\n",
       "    </tr>\n",
       "  </tbody>\n",
       "</table>\n",
       "</div>"
      ],
      "text/plain": [
       "    Day   Outlook Temperature Humidity    Wind PlayTennis\n",
       "0    D1     Sunny         Hot     High    Weak         No\n",
       "1    D2     Sunny         Hot     High  Strong         No\n",
       "2    D3  Overcast         Hot     High    Weak        Yes\n",
       "3    D4      Rain        Mild     High    Weak        Yes\n",
       "4    D5      Rain        Cool   Normal    Weak        Yes\n",
       "5    D6      Rain        Cool   Normal  Strong         No\n",
       "6    D7  Overcast        Cool   Normal  Strong        Yes\n",
       "7    D8     Sunny        Mild     High    Weak         No\n",
       "8    D9     Sunny        Cool   Normal    Weak        Yes\n",
       "9   D10      Rain        Mild   Normal    Weak        Yes\n",
       "10  D11     Sunny        Mild   Normal  Strong        Yes\n",
       "11  D12  Overcast        Mild     High  Strong        Yes\n",
       "12  D13  Overcast         Hot   Normal    Weak        Yes\n",
       "13  D14      Rain        Mild     High  Strong         No"
      ]
     },
     "execution_count": 9,
     "metadata": {},
     "output_type": "execute_result"
    }
   ],
   "source": [
    "train_df"
   ]
  },
  {
   "cell_type": "code",
   "execution_count": 10,
   "id": "6aeb01c4",
   "metadata": {},
   "outputs": [
    {
     "name": "stdout",
     "output_type": "stream",
     "text": [
      "P(PlayTennis=No|Outlook=Sunny) = 0.5999978666979551\n"
     ]
    }
   ],
   "source": [
    "B_column = 'Outlook'\n",
    "B_hypothes = 'Sunny'\n",
    "A_column = 'PlayTennis'\n",
    "A_value = 'No'\n",
    "print(f\"P({A_column}={A_value}|{B_column}={B_hypothes}) =\", probability(train_df, A_column, A_value, B_column, B_hypothes))"
   ]
  },
  {
   "cell_type": "code",
   "execution_count": 11,
   "id": "6131eee2",
   "metadata": {},
   "outputs": [],
   "source": [
    "def print_P(data_a, column_a, value_a, column_b, value_b):\n",
    "    print(f\"P({column_a}={value_a}|{column_b}={value_b}) =\", probability(data_a, column_a, value_a, column_b, value_b))\n",
    "    return"
   ]
  },
  {
   "cell_type": "code",
   "execution_count": 12,
   "id": "3c105c12",
   "metadata": {},
   "outputs": [
    {
     "name": "stdout",
     "output_type": "stream",
     "text": [
      "P(PlayTennis=No|Outlook=Sunny) = 0.5999978666979551\n"
     ]
    }
   ],
   "source": [
    "print_P(train_df,'PlayTennis', 'No','Outlook',  'Sunny' )"
   ]
  },
  {
   "cell_type": "code",
   "execution_count": 13,
   "id": "0128f159",
   "metadata": {},
   "outputs": [
    {
     "name": "stdout",
     "output_type": "stream",
     "text": [
      "P(Outlook=Sunny|PlayTennis=No) = 0.6000000000000001\n"
     ]
    }
   ],
   "source": [
    "print_P(train_df,'Outlook',  'Sunny', 'PlayTennis', 'No')"
   ]
  },
  {
   "cell_type": "code",
   "execution_count": 14,
   "id": "0e431828",
   "metadata": {},
   "outputs": [
    {
     "name": "stdout",
     "output_type": "stream",
     "text": [
      "Sunny No\n",
      "P(Outlook=Sunny|PlayTennis=No) = 0.6000000000000001\n",
      "Sunny Yes\n",
      "P(Outlook=Sunny|PlayTennis=Yes) = 0.22222271603813468\n",
      "Overcast No\n",
      "P(Outlook=Overcast|PlayTennis=No) = 0.0\n",
      "Overcast Yes\n",
      "P(Outlook=Overcast|PlayTennis=Yes) = 0.4444432099046633\n",
      "Rain No\n",
      "P(Outlook=Rain|PlayTennis=No) = 0.4\n",
      "Rain Yes\n",
      "P(Outlook=Rain|PlayTennis=Yes) = 0.33333407405720206\n"
     ]
    }
   ],
   "source": [
    "outlook = ['Sunny', 'Overcast', 'Rain']\n",
    "tempreture = ['Hot', 'Mild', 'Cool']\n",
    "humidity = ['High', 'Normal']\n",
    "wind= ['Weak', 'Strong']\n",
    "result = ['No', 'Yes']\n",
    "\n",
    "for o in outlook:\n",
    "    for r in  result:\n",
    "        print(o,r)\n",
    "        print_P(train_df,'Outlook',  o, 'PlayTennis', r)"
   ]
  },
  {
   "cell_type": "code",
   "execution_count": 15,
   "id": "69bd7877",
   "metadata": {},
   "outputs": [],
   "source": [
    "def prob_yes(data_a, value_a, value_b, value_c, value_d):\n",
    "    return (\n",
    "    probability(data_a, 'Outlook', value_a, 'PlayTennis', 'Yes') *\n",
    "    probability(data_a, 'Temperature', value_b, 'PlayTennis', 'Yes') *\n",
    "    probability(data_a, 'Humidity', value_c, 'PlayTennis', 'Yes') *\n",
    "    probability(data_a, 'Wind', value_d, 'PlayTennis', 'Yes') *\n",
    "    prior(data_a,  'PlayTennis', 'Yes')\n",
    "    )\n",
    "def prob_no(data_a, value_a, value_b, value_c, value_d):\n",
    "    return (\n",
    "    probability(data_a, 'Outlook', value_a, 'PlayTennis', 'No') *\n",
    "    probability(data_a, 'Temperature', value_b, 'PlayTennis', 'No') *\n",
    "    probability(data_a, 'Humidity', value_c, 'PlayTennis', 'No') *\n",
    "    probability(data_a, 'Wind', value_d, 'PlayTennis', 'No') *\n",
    "    prior(data_a,  'PlayTennis', 'No')\n",
    "    )\n",
    "def proba_full(data_a, value_a, value_b, value_c, value_d):\n",
    "    return (\n",
    "    prob_yes(data_a, value_a, value_b, value_c, value_d) + \n",
    "    prob_no(data_a, value_a, value_b, value_c, value_d)\n",
    "    ) "
   ]
  },
  {
   "cell_type": "code",
   "execution_count": 16,
   "id": "8e83a3b1",
   "metadata": {},
   "outputs": [],
   "source": [
    "def Bayes_fit(data_a, value_a, value_b, value_c, value_d, hypothes):\n",
    "    return (\n",
    "    probability(data_a, 'Outlook', value_a, 'PlayTennis', hypothes) *\n",
    "    probability(data_a, 'Temperature', value_b, 'PlayTennis', hypothes) *\n",
    "    probability(data_a, 'Humidity', value_c, 'PlayTennis', hypothes) *\n",
    "    probability(data_a, 'Wind', value_d, 'PlayTennis', hypothes) *\n",
    "    prior(data_a,  'PlayTennis', hypothes) / \n",
    "    proba_full (data_a, value_a, value_b, value_c, value_d)\n",
    "    )   "
   ]
  },
  {
   "cell_type": "code",
   "execution_count": 17,
   "id": "9c62c095",
   "metadata": {},
   "outputs": [
    {
     "data": {
      "text/plain": [
       "0.2045827719261247"
      ]
     },
     "execution_count": 17,
     "metadata": {},
     "output_type": "execute_result"
    }
   ],
   "source": [
    "Bayes_fit(train_df, 'Sunny', 'Cool', 'High', 'Strong', 'Yes')"
   ]
  },
  {
   "cell_type": "code",
   "execution_count": 18,
   "id": "3010fc7a",
   "metadata": {},
   "outputs": [
    {
     "data": {
      "text/plain": [
       "0.7954172280738753"
      ]
     },
     "execution_count": 18,
     "metadata": {},
     "output_type": "execute_result"
    }
   ],
   "source": [
    "Bayes_fit(train_df, 'Sunny', 'Cool', 'High', 'Strong', 'No')"
   ]
  },
  {
   "cell_type": "code",
   "execution_count": 19,
   "id": "5d78ebe3",
   "metadata": {},
   "outputs": [],
   "source": [
    "def TestBayes(value_a, value_b, value_c, value_d):\n",
    "    yes= Bayes_fit(train_df, value_a, value_b, value_c, value_d, 'Yes')\n",
    "    no= Bayes_fit(train_df, value_a, value_b, value_c, value_d, 'No')\n",
    "    print (\" %s %s %s %s Yes %f\" % (value_a, value_b, value_c, value_d, yes))\n",
    "    print (\" %s %s %s %s No  %f\" % (value_a, value_b, value_c, value_d, no))\n",
    "    return "
   ]
  },
  {
   "cell_type": "code",
   "execution_count": 21,
   "id": "a26ff1b2",
   "metadata": {},
   "outputs": [
    {
     "name": "stdout",
     "output_type": "stream",
     "text": [
      " Sunny Cool Normal Strong Yes 0.672948\n",
      " Sunny Cool Normal Strong No  0.327052\n"
     ]
    }
   ],
   "source": [
    "TestBayes('Sunny', 'Cool', 'Normal', 'Strong')"
   ]
  },
  {
   "cell_type": "code",
   "execution_count": null,
   "id": "c2c37242",
   "metadata": {},
   "outputs": [],
   "source": []
  }
 ],
 "metadata": {
  "kernelspec": {
   "display_name": "Python 3 (ipykernel)",
   "language": "python",
   "name": "python3"
  },
  "language_info": {
   "codemirror_mode": {
    "name": "ipython",
    "version": 3
   },
   "file_extension": ".py",
   "mimetype": "text/x-python",
   "name": "python",
   "nbconvert_exporter": "python",
   "pygments_lexer": "ipython3",
   "version": "3.11.5"
  }
 },
 "nbformat": 4,
 "nbformat_minor": 5
}
